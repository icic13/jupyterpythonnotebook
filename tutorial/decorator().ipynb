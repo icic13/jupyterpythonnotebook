{
 "cells": [
  {
   "cell_type": "code",
   "execution_count": 1,
   "metadata": {
    "collapsed": true
   },
   "outputs": [],
   "source": [
    "def func():\n",
    "    return 1"
   ]
  },
  {
   "cell_type": "code",
   "execution_count": 2,
   "metadata": {
    "collapsed": false
   },
   "outputs": [
    {
     "data": {
      "text/plain": [
       "1"
      ]
     },
     "execution_count": 2,
     "metadata": {},
     "output_type": "execute_result"
    }
   ],
   "source": [
    "func()"
   ]
  },
  {
   "cell_type": "code",
   "execution_count": 3,
   "metadata": {
    "collapsed": true
   },
   "outputs": [],
   "source": [
    "s = 'This is a global variable'\n",
    "def func():\n",
    "    print locals()"
   ]
  },
  {
   "cell_type": "code",
   "execution_count": 4,
   "metadata": {
    "collapsed": false
   },
   "outputs": [
    {
     "name": "stdout",
     "output_type": "stream",
     "text": [
      "{}\n"
     ]
    }
   ],
   "source": [
    "func()"
   ]
  },
  {
   "cell_type": "code",
   "execution_count": 5,
   "metadata": {
    "collapsed": false
   },
   "outputs": [
    {
     "data": {
      "text/plain": [
       "{'In': ['',\n",
       "  u'def func():\\n    return 1',\n",
       "  u'func()',\n",
       "  u\"s = 'This is a global variable'\\ndef func():\\n    print locals()\",\n",
       "  u'func()',\n",
       "  u'locals()\\nglobals()'],\n",
       " 'Out': {2: 1},\n",
       " '_': 1,\n",
       " '_2': 1,\n",
       " '__': '',\n",
       " '___': '',\n",
       " '__builtin__': <module '__builtin__' (built-in)>,\n",
       " '__builtins__': <module '__builtin__' (built-in)>,\n",
       " '__doc__': 'Automatically created module for IPython interactive environment',\n",
       " '__name__': '__main__',\n",
       " '_dh': [u'/home/rana/jupyterpythonnotebook/tutorial'],\n",
       " '_i': u'func()',\n",
       " '_i1': u'def func():\\n    return 1',\n",
       " '_i2': u'func()',\n",
       " '_i3': u\"s = 'This is a global variable'\\ndef func():\\n    print locals()\",\n",
       " '_i4': u'func()',\n",
       " '_i5': u'locals()\\nglobals()',\n",
       " '_ih': ['',\n",
       "  u'def func():\\n    return 1',\n",
       "  u'func()',\n",
       "  u\"s = 'This is a global variable'\\ndef func():\\n    print locals()\",\n",
       "  u'func()',\n",
       "  u'locals()\\nglobals()'],\n",
       " '_ii': u\"s = 'This is a global variable'\\ndef func():\\n    print locals()\",\n",
       " '_iii': u'func()',\n",
       " '_oh': {2: 1},\n",
       " '_sh': <module 'IPython.core.shadowns' from '/home/rana/anaconda2/lib/python2.7/site-packages/IPython/core/shadowns.pyc'>,\n",
       " 'exit': <IPython.core.autocall.ZMQExitAutocall at 0x7f12953081d0>,\n",
       " 'func': <function __main__.func>,\n",
       " 'get_ipython': <bound method ZMQInteractiveShell.get_ipython of <ipykernel.zmqshell.ZMQInteractiveShell object at 0x7f12952fb890>>,\n",
       " 'quit': <IPython.core.autocall.ZMQExitAutocall at 0x7f12953081d0>,\n",
       " 's': 'This is a global variable'}"
      ]
     },
     "execution_count": 5,
     "metadata": {},
     "output_type": "execute_result"
    }
   ],
   "source": [
    "locals()\n",
    "globals()"
   ]
  },
  {
   "cell_type": "code",
   "execution_count": 10,
   "metadata": {
    "collapsed": false
   },
   "outputs": [
    {
     "name": "stdout",
     "output_type": "stream",
     "text": [
      "This is a global variable\n"
     ]
    }
   ],
   "source": [
    "print globals()['s']"
   ]
  },
  {
   "cell_type": "code",
   "execution_count": 11,
   "metadata": {
    "collapsed": false
   },
   "outputs": [
    {
     "data": {
      "text/plain": [
       "'This is a global variable'"
      ]
     },
     "execution_count": 11,
     "metadata": {},
     "output_type": "execute_result"
    }
   ],
   "source": [
    "s"
   ]
  },
  {
   "cell_type": "code",
   "execution_count": 12,
   "metadata": {
    "collapsed": false
   },
   "outputs": [
    {
     "name": "stdout",
     "output_type": "stream",
     "text": [
      "{}\n"
     ]
    }
   ],
   "source": [
    "func()"
   ]
  },
  {
   "cell_type": "code",
   "execution_count": 13,
   "metadata": {
    "collapsed": true
   },
   "outputs": [],
   "source": [
    "def hello(name='rana'):\n",
    "    return \"Hello \"+name"
   ]
  },
  {
   "cell_type": "code",
   "execution_count": 14,
   "metadata": {
    "collapsed": false
   },
   "outputs": [
    {
     "data": {
      "text/plain": [
       "'Hello rana'"
      ]
     },
     "execution_count": 14,
     "metadata": {},
     "output_type": "execute_result"
    }
   ],
   "source": [
    "hello()"
   ]
  },
  {
   "cell_type": "code",
   "execution_count": 15,
   "metadata": {
    "collapsed": false
   },
   "outputs": [
    {
     "data": {
      "text/plain": [
       "'Hello rana'"
      ]
     },
     "execution_count": 15,
     "metadata": {},
     "output_type": "execute_result"
    }
   ],
   "source": [
    "hello()"
   ]
  },
  {
   "cell_type": "code",
   "execution_count": 17,
   "metadata": {
    "collapsed": true
   },
   "outputs": [],
   "source": [
    "greet = hello"
   ]
  },
  {
   "cell_type": "code",
   "execution_count": 18,
   "metadata": {
    "collapsed": false
   },
   "outputs": [
    {
     "data": {
      "text/plain": [
       "<function __main__.hello>"
      ]
     },
     "execution_count": 18,
     "metadata": {},
     "output_type": "execute_result"
    }
   ],
   "source": [
    "greet"
   ]
  },
  {
   "cell_type": "code",
   "execution_count": 19,
   "metadata": {
    "collapsed": false
   },
   "outputs": [
    {
     "data": {
      "text/plain": [
       "'Hello rana'"
      ]
     },
     "execution_count": 19,
     "metadata": {},
     "output_type": "execute_result"
    }
   ],
   "source": [
    "greet()"
   ]
  },
  {
   "cell_type": "code",
   "execution_count": 20,
   "metadata": {
    "collapsed": false
   },
   "outputs": [
    {
     "name": "stdout",
     "output_type": "stream",
     "text": [
      "The slowest run took 12.82 times longer than the fastest. This could mean that an intermediate result is being cached \n",
      "1000000 loops, best of 3: 223 ns per loop\n"
     ]
    }
   ],
   "source": [
    "%timeit(greet(),1000000)"
   ]
  },
  {
   "cell_type": "code",
   "execution_count": 21,
   "metadata": {
    "collapsed": false
   },
   "outputs": [
    {
     "name": "stdout",
     "output_type": "stream",
     "text": [
      "The slowest run took 16.28 times longer than the fastest. This could mean that an intermediate result is being cached \n",
      "1000000 loops, best of 3: 234 ns per loop\n"
     ]
    }
   ],
   "source": [
    "%timeit(greet('rana'),10000000000000)"
   ]
  },
  {
   "cell_type": "code",
   "execution_count": 22,
   "metadata": {
    "collapsed": false
   },
   "outputs": [
    {
     "data": {
      "text/plain": [
       "{'In': ['',\n",
       "  u'def func():\\n    return 1',\n",
       "  u'func()',\n",
       "  u\"s = 'This is a global variable'\\ndef func():\\n    print locals()\",\n",
       "  u'func()',\n",
       "  u'locals()\\nglobals()',\n",
       "  u'global.keys()',\n",
       "  u'globals.keys()',\n",
       "  u'print globals.keys()',\n",
       "  u'globals.keys()',\n",
       "  u\"print globals()['s']\",\n",
       "  u's',\n",
       "  u'func()',\n",
       "  u'def hello(name=\\'rana\\'):\\n    return \"Hello \"+name',\n",
       "  u'hello()',\n",
       "  u'hello()',\n",
       "  u'greet = hello()',\n",
       "  u'greet = hello',\n",
       "  u'greet',\n",
       "  u'greet()',\n",
       "  u\"get_ipython().magic(u'timeit (greet(),1000000)')\",\n",
       "  u'get_ipython().magic(u\"timeit (greet(\\'rana\\'),10000000000000)\")',\n",
       "  u'locals()'],\n",
       " 'Out': {2: 1,\n",
       "  5: {...},\n",
       "  11: 'This is a global variable',\n",
       "  14: 'Hello rana',\n",
       "  15: 'Hello rana',\n",
       "  18: <function __main__.hello>,\n",
       "  19: 'Hello rana'},\n",
       " '_': 'Hello rana',\n",
       " '_11': 'This is a global variable',\n",
       " '_14': 'Hello rana',\n",
       " '_15': 'Hello rana',\n",
       " '_18': <function __main__.hello>,\n",
       " '_19': 'Hello rana',\n",
       " '_2': 1,\n",
       " '_5': {...},\n",
       " '__': <function __main__.hello>,\n",
       " '___': 'Hello rana',\n",
       " '__builtin__': <module '__builtin__' (built-in)>,\n",
       " '__builtins__': <module '__builtin__' (built-in)>,\n",
       " '__doc__': 'Automatically created module for IPython interactive environment',\n",
       " '__name__': '__main__',\n",
       " '_dh': [u'/home/rana/jupyterpythonnotebook/tutorial'],\n",
       " '_i': u\"%timeit(greet('rana'),10000000000000)\",\n",
       " '_i1': u'def func():\\n    return 1',\n",
       " '_i10': u\"print globals()['s']\",\n",
       " '_i11': u's',\n",
       " '_i12': u'func()',\n",
       " '_i13': u'def hello(name=\\'rana\\'):\\n    return \"Hello \"+name',\n",
       " '_i14': u'hello()',\n",
       " '_i15': u'hello()',\n",
       " '_i16': u'greet = hello()',\n",
       " '_i17': u'greet = hello',\n",
       " '_i18': u'greet',\n",
       " '_i19': u'greet()',\n",
       " '_i2': u'func()',\n",
       " '_i20': u'%timeit(greet(),1000000)',\n",
       " '_i21': u\"%timeit(greet('rana'),10000000000000)\",\n",
       " '_i22': u'locals()',\n",
       " '_i3': u\"s = 'This is a global variable'\\ndef func():\\n    print locals()\",\n",
       " '_i4': u'func()',\n",
       " '_i5': u'locals()\\nglobals()',\n",
       " '_i6': u'global.keys()',\n",
       " '_i7': u'globals.keys()',\n",
       " '_i8': u'print globals.keys()',\n",
       " '_i9': u'globals.keys()',\n",
       " '_ih': ['',\n",
       "  u'def func():\\n    return 1',\n",
       "  u'func()',\n",
       "  u\"s = 'This is a global variable'\\ndef func():\\n    print locals()\",\n",
       "  u'func()',\n",
       "  u'locals()\\nglobals()',\n",
       "  u'global.keys()',\n",
       "  u'globals.keys()',\n",
       "  u'print globals.keys()',\n",
       "  u'globals.keys()',\n",
       "  u\"print globals()['s']\",\n",
       "  u's',\n",
       "  u'func()',\n",
       "  u'def hello(name=\\'rana\\'):\\n    return \"Hello \"+name',\n",
       "  u'hello()',\n",
       "  u'hello()',\n",
       "  u'greet = hello()',\n",
       "  u'greet = hello',\n",
       "  u'greet',\n",
       "  u'greet()',\n",
       "  u\"get_ipython().magic(u'timeit (greet(),1000000)')\",\n",
       "  u'get_ipython().magic(u\"timeit (greet(\\'rana\\'),10000000000000)\")',\n",
       "  u'locals()'],\n",
       " '_ii': u'%timeit(greet(),1000000)',\n",
       " '_iii': u'greet()',\n",
       " '_oh': {2: 1,\n",
       "  5: {...},\n",
       "  11: 'This is a global variable',\n",
       "  14: 'Hello rana',\n",
       "  15: 'Hello rana',\n",
       "  18: <function __main__.hello>,\n",
       "  19: 'Hello rana'},\n",
       " '_sh': <module 'IPython.core.shadowns' from '/home/rana/anaconda2/lib/python2.7/site-packages/IPython/core/shadowns.pyc'>,\n",
       " 'exit': <IPython.core.autocall.ZMQExitAutocall at 0x7f12953081d0>,\n",
       " 'func': <function __main__.func>,\n",
       " 'get_ipython': <bound method ZMQInteractiveShell.get_ipython of <ipykernel.zmqshell.ZMQInteractiveShell object at 0x7f12952fb890>>,\n",
       " 'greet': <function __main__.hello>,\n",
       " 'hello': <function __main__.hello>,\n",
       " 'quit': <IPython.core.autocall.ZMQExitAutocall at 0x7f12953081d0>,\n",
       " 's': 'This is a global variable'}"
      ]
     },
     "execution_count": 22,
     "metadata": {},
     "output_type": "execute_result"
    }
   ],
   "source": [
    "locals()"
   ]
  },
  {
   "cell_type": "code",
   "execution_count": 23,
   "metadata": {
    "collapsed": false
   },
   "outputs": [
    {
     "data": {
      "text/plain": [
       "{'In': ['',\n",
       "  u'def func():\\n    return 1',\n",
       "  u'func()',\n",
       "  u\"s = 'This is a global variable'\\ndef func():\\n    print locals()\",\n",
       "  u'func()',\n",
       "  u'locals()\\nglobals()',\n",
       "  u'global.keys()',\n",
       "  u'globals.keys()',\n",
       "  u'print globals.keys()',\n",
       "  u'globals.keys()',\n",
       "  u\"print globals()['s']\",\n",
       "  u's',\n",
       "  u'func()',\n",
       "  u'def hello(name=\\'rana\\'):\\n    return \"Hello \"+name',\n",
       "  u'hello()',\n",
       "  u'hello()',\n",
       "  u'greet = hello()',\n",
       "  u'greet = hello',\n",
       "  u'greet',\n",
       "  u'greet()',\n",
       "  u\"get_ipython().magic(u'timeit (greet(),1000000)')\",\n",
       "  u'get_ipython().magic(u\"timeit (greet(\\'rana\\'),10000000000000)\")',\n",
       "  u'locals()',\n",
       "  u'locals()'],\n",
       " 'Out': {2: 1,\n",
       "  5: {...},\n",
       "  11: 'This is a global variable',\n",
       "  14: 'Hello rana',\n",
       "  15: 'Hello rana',\n",
       "  18: <function __main__.hello>,\n",
       "  19: 'Hello rana',\n",
       "  22: {...}},\n",
       " '_': {...},\n",
       " '_11': 'This is a global variable',\n",
       " '_14': 'Hello rana',\n",
       " '_15': 'Hello rana',\n",
       " '_18': <function __main__.hello>,\n",
       " '_19': 'Hello rana',\n",
       " '_2': 1,\n",
       " '_22': {...},\n",
       " '_5': {...},\n",
       " '__': 'Hello rana',\n",
       " '___': <function __main__.hello>,\n",
       " '__builtin__': <module '__builtin__' (built-in)>,\n",
       " '__builtins__': <module '__builtin__' (built-in)>,\n",
       " '__doc__': 'Automatically created module for IPython interactive environment',\n",
       " '__name__': '__main__',\n",
       " '_dh': [u'/home/rana/jupyterpythonnotebook/tutorial'],\n",
       " '_i': u'locals()',\n",
       " '_i1': u'def func():\\n    return 1',\n",
       " '_i10': u\"print globals()['s']\",\n",
       " '_i11': u's',\n",
       " '_i12': u'func()',\n",
       " '_i13': u'def hello(name=\\'rana\\'):\\n    return \"Hello \"+name',\n",
       " '_i14': u'hello()',\n",
       " '_i15': u'hello()',\n",
       " '_i16': u'greet = hello()',\n",
       " '_i17': u'greet = hello',\n",
       " '_i18': u'greet',\n",
       " '_i19': u'greet()',\n",
       " '_i2': u'func()',\n",
       " '_i20': u'%timeit(greet(),1000000)',\n",
       " '_i21': u\"%timeit(greet('rana'),10000000000000)\",\n",
       " '_i22': u'locals()',\n",
       " '_i23': u'locals()',\n",
       " '_i3': u\"s = 'This is a global variable'\\ndef func():\\n    print locals()\",\n",
       " '_i4': u'func()',\n",
       " '_i5': u'locals()\\nglobals()',\n",
       " '_i6': u'global.keys()',\n",
       " '_i7': u'globals.keys()',\n",
       " '_i8': u'print globals.keys()',\n",
       " '_i9': u'globals.keys()',\n",
       " '_ih': ['',\n",
       "  u'def func():\\n    return 1',\n",
       "  u'func()',\n",
       "  u\"s = 'This is a global variable'\\ndef func():\\n    print locals()\",\n",
       "  u'func()',\n",
       "  u'locals()\\nglobals()',\n",
       "  u'global.keys()',\n",
       "  u'globals.keys()',\n",
       "  u'print globals.keys()',\n",
       "  u'globals.keys()',\n",
       "  u\"print globals()['s']\",\n",
       "  u's',\n",
       "  u'func()',\n",
       "  u'def hello(name=\\'rana\\'):\\n    return \"Hello \"+name',\n",
       "  u'hello()',\n",
       "  u'hello()',\n",
       "  u'greet = hello()',\n",
       "  u'greet = hello',\n",
       "  u'greet',\n",
       "  u'greet()',\n",
       "  u\"get_ipython().magic(u'timeit (greet(),1000000)')\",\n",
       "  u'get_ipython().magic(u\"timeit (greet(\\'rana\\'),10000000000000)\")',\n",
       "  u'locals()',\n",
       "  u'locals()'],\n",
       " '_ii': u\"%timeit(greet('rana'),10000000000000)\",\n",
       " '_iii': u'%timeit(greet(),1000000)',\n",
       " '_oh': {2: 1,\n",
       "  5: {...},\n",
       "  11: 'This is a global variable',\n",
       "  14: 'Hello rana',\n",
       "  15: 'Hello rana',\n",
       "  18: <function __main__.hello>,\n",
       "  19: 'Hello rana',\n",
       "  22: {...}},\n",
       " '_sh': <module 'IPython.core.shadowns' from '/home/rana/anaconda2/lib/python2.7/site-packages/IPython/core/shadowns.pyc'>,\n",
       " 'exit': <IPython.core.autocall.ZMQExitAutocall at 0x7f12953081d0>,\n",
       " 'func': <function __main__.func>,\n",
       " 'get_ipython': <bound method ZMQInteractiveShell.get_ipython of <ipykernel.zmqshell.ZMQInteractiveShell object at 0x7f12952fb890>>,\n",
       " 'greet': <function __main__.hello>,\n",
       " 'hello': <function __main__.hello>,\n",
       " 'quit': <IPython.core.autocall.ZMQExitAutocall at 0x7f12953081d0>,\n",
       " 's': 'This is a global variable'}"
      ]
     },
     "execution_count": 23,
     "metadata": {},
     "output_type": "execute_result"
    }
   ],
   "source": [
    "locals()"
   ]
  },
  {
   "cell_type": "code",
   "execution_count": null,
   "metadata": {
    "collapsed": true
   },
   "outputs": [],
   "source": []
  }
 ],
 "metadata": {
  "kernelspec": {
   "display_name": "Python 2",
   "language": "python",
   "name": "python2"
  },
  "language_info": {
   "codemirror_mode": {
    "name": "ipython",
    "version": 2
   },
   "file_extension": ".py",
   "mimetype": "text/x-python",
   "name": "python",
   "nbconvert_exporter": "python",
   "pygments_lexer": "ipython2",
   "version": "2.7.10"
  }
 },
 "nbformat": 4,
 "nbformat_minor": 0
}
