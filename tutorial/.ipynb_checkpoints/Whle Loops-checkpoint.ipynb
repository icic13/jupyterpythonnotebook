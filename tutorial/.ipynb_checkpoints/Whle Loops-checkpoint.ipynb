{
 "cells": [
  {
   "cell_type": "code",
   "execution_count": 1,
   "metadata": {
    "collapsed": false
   },
   "outputs": [
    {
     "name": "stdout",
     "output_type": "stream",
     "text": [
      "0\n",
      "1\n",
      "2\n",
      "3\n",
      "4\n",
      "5\n",
      "6\n",
      "7\n",
      "8\n",
      "9\n"
     ]
    }
   ],
   "source": [
    "i = 0\n",
    "while i<10:\n",
    "    print i\n",
    "    i+=1"
   ]
  },
  {
   "cell_type": "code",
   "execution_count": 2,
   "metadata": {
    "collapsed": false
   },
   "outputs": [
    {
     "name": "stdout",
     "output_type": "stream",
     "text": [
      "0\n",
      "1\n",
      "2\n",
      "3\n",
      "4\n",
      "5\n",
      "6\n",
      "7\n",
      "8\n",
      "9\n"
     ]
    }
   ],
   "source": [
    "counter = 0\n",
    "while counter<10:\n",
    "    print counter\n",
    "    counter+=1"
   ]
  },
  {
   "cell_type": "code",
   "execution_count": 3,
   "metadata": {
    "collapsed": false
   },
   "outputs": [
    {
     "name": "stdout",
     "output_type": "stream",
     "text": [
      "10\n",
      "9\n",
      "8\n",
      "7\n",
      "6\n",
      "5\n",
      "4\n",
      "3\n",
      "2\n",
      "1\n",
      "0\n"
     ]
    }
   ],
   "source": [
    "x = 10\n",
    "while x>=0:\n",
    "    print x\n",
    "    x-=1"
   ]
  },
  {
   "cell_type": "code",
   "execution_count": 4,
   "metadata": {
    "collapsed": false
   },
   "outputs": [
    {
     "name": "stdout",
     "output_type": "stream",
     "text": [
      "x is currently :  0\n",
      "x is currently :  1\n",
      "x is currently :  2\n",
      "x is currently :  3\n",
      "x is currently :  4\n",
      "x is currently :  5\n",
      "x is currently :  6\n",
      "x is currently :  7\n",
      "x is currently :  8\n",
      "x is currently :  9\n"
     ]
    }
   ],
   "source": [
    "x = 0\n",
    "while x<10:\n",
    "    print 'x is currently : ',x\n",
    "    x+=1"
   ]
  },
  {
   "cell_type": "code",
   "execution_count": 6,
   "metadata": {
    "collapsed": false
   },
   "outputs": [
    {
     "name": "stdout",
     "output_type": "stream",
     "text": [
      "x is currently :  0\n",
      "x is currently :  1\n",
      "x is currently :  2\n",
      "x is currently :  3\n",
      "x is currently :  4\n",
      "x is currently :  5\n",
      "x is currently :  6\n",
      "x is currently :  7\n",
      "x is currently :  8\n",
      "x is currently :  9\n",
      "All done.\n"
     ]
    }
   ],
   "source": [
    "x = 0\n",
    "while x<10:\n",
    "    print 'x is currently : ',x\n",
    "    x+=1\n",
    "else:\n",
    "    print \"All done.\""
   ]
  },
  {
   "cell_type": "code",
   "execution_count": 7,
   "metadata": {
    "collapsed": false
   },
   "outputs": [
    {
     "name": "stdout",
     "output_type": "stream",
     "text": [
      "x is currently  0\n",
      "x is currently  1\n",
      "x is currently  2\n",
      "x is currently  3\n",
      "x is currently  4\n",
      "x is currently  5\n"
     ]
    }
   ],
   "source": [
    "x = 0\n",
    "while x<10:\n",
    "    print 'x is currently ',x\n",
    "    if x==5:\n",
    "        break\n",
    "    x+=1\n",
    "else:\n",
    "    print 'All done.'"
   ]
  },
  {
   "cell_type": "code",
   "execution_count": 8,
   "metadata": {
    "collapsed": false
   },
   "outputs": [
    {
     "name": "stdout",
     "output_type": "stream",
     "text": [
      "x is currently  0\n",
      "x is currently  1\n",
      "x is currently  2\n",
      "x is currently  3\n",
      "x is currently  4\n",
      "x is currently  5\n"
     ]
    }
   ],
   "source": [
    "x = 0\n",
    "while x<10:\n",
    "    print 'x is currently ',x\n",
    "    if x==5:\n",
    "        break\n",
    "    x+=1\n"
   ]
  },
  {
   "cell_type": "code",
   "execution_count": 10,
   "metadata": {
    "collapsed": false
   },
   "outputs": [
    {
     "name": "stdout",
     "output_type": "stream",
     "text": [
      "x is currently  0\n",
      "x is still less than 10, adding  1 to x\n",
      "countuning .. . .\n",
      "x is currently  1\n",
      "x is still less than 10, adding  1 to x\n",
      "countuning .. . .\n",
      "x is currently  2\n",
      "x is still less than 10, adding  1 to x\n",
      " hey x equalx 3!\n",
      "x is currently  3\n",
      "x is still less than 10, adding  1 to x\n",
      "countuning .. . .\n",
      "x is currently  4\n",
      "x is still less than 10, adding  1 to x\n",
      "countuning .. . .\n",
      "x is currently  5\n",
      "x is still less than 10, adding  1 to x\n",
      "countuning .. . .\n",
      "x is currently  6\n",
      "x is still less than 10, adding  1 to x\n",
      "countuning .. . .\n",
      "x is currently  7\n",
      "x is still less than 10, adding  1 to x\n",
      "countuning .. . .\n",
      "x is currently  8\n",
      "x is still less than 10, adding  1 to x\n",
      "countuning .. . .\n",
      "x is currently  9\n",
      "x is still less than 10, adding  1 to x\n",
      "countuning .. . .\n"
     ]
    }
   ],
   "source": [
    "x = 0\n",
    "while x<10:\n",
    "    print 'x is currently ',x\n",
    "    print 'x is still less than 10, adding  1 to x'\n",
    "    x+=1\n",
    "    if x==3:\n",
    "        print ' hey x equalx 3!'\n",
    "    else:\n",
    "        print 'countuning .. . .'\n",
    "        continue"
   ]
  },
  {
   "cell_type": "code",
   "execution_count": 11,
   "metadata": {
    "collapsed": false,
    "scrolled": true
   },
   "outputs": [
    {
     "name": "stdout",
     "output_type": "stream",
     "text": [
      "x is currently  0\n",
      "x is still less than 10, adding  1 to x\n",
      "countuning .. . .\n",
      "x is currently  1\n",
      "x is still less than 10, adding  1 to x\n",
      "countuning .. . .\n",
      "x is currently  2\n",
      "x is still less than 10, adding  1 to x\n",
      " hey x equalx 3!\n"
     ]
    }
   ],
   "source": [
    "x = 0\n",
    "while x<10:\n",
    "    print 'x is currently ',x\n",
    "    print 'x is still less than 10, adding  1 to x'\n",
    "    x+=1\n",
    "    if x==3:\n",
    "        print ' hey x equalx 3!'\n",
    "        break\n",
    "    else:\n",
    "        print 'countuning .. . .'\n",
    "        continue"
   ]
  }
 ],
 "metadata": {
  "kernelspec": {
   "display_name": "Python 2",
   "language": "python",
   "name": "python2"
  },
  "language_info": {
   "codemirror_mode": {
    "name": "ipython",
    "version": 2
   },
   "file_extension": ".py",
   "mimetype": "text/x-python",
   "name": "python",
   "nbconvert_exporter": "python",
   "pygments_lexer": "ipython2",
   "version": "2.7.10"
  }
 },
 "nbformat": 4,
 "nbformat_minor": 0
}
